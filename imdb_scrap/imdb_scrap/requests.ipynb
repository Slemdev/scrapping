{
 "cells": [
  {
   "cell_type": "code",
   "execution_count": 19,
   "metadata": {},
   "outputs": [],
   "source": [
    "import pymongo\n",
    "from dotenv import load_dotenv\n",
    "import os\n",
    "load_dotenv()\n",
    "ATLAS_KEY=os.getenv('ATLAS_KEY')\n",
    "\n",
    "client = pymongo.MongoClient(ATLAS_KEY)\n",
    "\n",
    "db = client.imdb\n",
    "collection = client.top_250.top_250_movies\n",
    "\n"
   ]
  },
  {
   "cell_type": "code",
   "execution_count": 20,
   "metadata": {},
   "outputs": [
    {
     "name": "stdout",
     "output_type": "stream",
     "text": [
      "['Gone with the Wind']\n"
     ]
    }
   ],
   "source": [
    "# Quel est le film le plus long ?\n",
    "result = {\"_id\": 0, \"original_title\": 1}\n",
    "\n",
    "cursor = collection.find().sort(\"duration\", pymongo.DESCENDING).limit(1)\n",
    "for document in cursor:\n",
    "    print(document[\"original_title\"])"
   ]
  },
  {
   "cell_type": "code",
   "execution_count": 21,
   "metadata": {},
   "outputs": [
    {
     "name": "stdout",
     "output_type": "stream",
     "text": [
      "[]\n",
      "['The Godfather']\n",
      "[]\n",
      "['The Godfather Part II']\n",
      "['The Dark Knight']\n"
     ]
    }
   ],
   "source": [
    "# Quels sont les 5 films les mieux notés ?\n",
    "\n",
    "result = {\"_id\": 0, \"original_title\": 1}\n",
    "\n",
    "cursor = collection.find().sort(\"rating\", pymongo.DESCENDING).limit(5)\n",
    "for document in cursor:\n",
    "    print(document[\"original_title\"])\n"
   ]
  },
  {
   "cell_type": "code",
   "execution_count": 22,
   "metadata": {},
   "outputs": [
    {
     "name": "stdout",
     "output_type": "stream",
     "text": [
      "Morgan Freeman à jouer dans 4 film(s) du top 250\n",
      "Tom Cruise à jouer dans 1 film(s) du top 250\n"
     ]
    }
   ],
   "source": [
    "# Dans combien de films a joué Morgan Freeman ? Tom Cruise ?\n",
    "count_MF = collection.count_documents({\"casting\": \"Morgan Freeman\"})\n",
    "count_TC = collection.count_documents({\"casting\": \"Tom Cruise\"})\n",
    "print('Morgan Freeman à jouer dans',count_MF,'film(s) du top 250')\n",
    "print('Tom Cruise à jouer dans',count_TC, 'film(s) du top 250')\n"
   ]
  },
  {
   "cell_type": "code",
   "execution_count": 23,
   "metadata": {},
   "outputs": [
    {
     "name": "stdout",
     "output_type": "stream",
     "text": [
      "['Psycho']\n",
      "['Alien']\n",
      "['The Shining']\n"
     ]
    }
   ],
   "source": [
    "# Quels sont les 3 meilleurs films d’horreur ? Dramatique ? Comique ?\n",
    "drama = {\"genre\": \"Drama\"} \n",
    "horreur = {\"genre\": \"Horror\"}\n",
    "comedie = {\"genre\": \"Comedy\"}\n",
    "\n",
    "result = {\"_id\": 0, \"original_title\": 1}\n",
    "\n",
    "cursor = collection.find(horreur).sort(\"rating\", pymongo.DESCENDING).limit(3)\n",
    "for document in cursor:\n",
    "    print(document[\"original_title\"])\n",
    "\n"
   ]
  },
  {
   "cell_type": "code",
   "execution_count": 24,
   "metadata": {},
   "outputs": [
    {
     "name": "stdout",
     "output_type": "stream",
     "text": [
      "il y a  8.4 % de film français et 71.2 % de film américain\n"
     ]
    }
   ],
   "source": [
    "# Parmi les 100 films les mieux notés, quel pourcentage sont américains ? Français ?\n",
    "country_US = {\"country\" : \"United States\"}\n",
    "country_FR = {\"country\" : \"France\"}\n",
    "\n",
    "count_fr = collection.count_documents(country_FR)\n",
    "count_us = collection.count_documents(country_US)\n",
    "print ('il y a ', (count_fr*100)/250 ,'% de film français et', (count_us*100)/250 , '% de film américain')"
   ]
  },
  {
   "cell_type": "code",
   "execution_count": 11,
   "metadata": {},
   "outputs": [
    {
     "name": "stdout",
     "output_type": "stream",
     "text": [
      "104.69047619047619\n"
     ]
    }
   ],
   "source": [
    "# Quel est la durée moyenne d’un film en fonction du genre ?\n",
    "\n",
    "genre = {\"genre\" : \"Comedy\"}\n",
    "count_genre = collection.count_documents(genre)\n",
    "duration_average = 0\n",
    "\n",
    "result = {\"_id\": 0, \"duration\": 1}\n",
    "\n",
    "for document in collection.find(genre, result):\n",
    "    duration_average += document[\"duration\"]\n",
    "    \n",
    "print(duration_average/count_genre)\n"
   ]
  },
  {
   "cell_type": "code",
   "execution_count": null,
   "metadata": {},
   "outputs": [],
   "source": []
  }
 ],
 "metadata": {
  "kernelspec": {
   "display_name": "Python 3",
   "language": "python",
   "name": "python3"
  },
  "language_info": {
   "codemirror_mode": {
    "name": "ipython",
    "version": 3
   },
   "file_extension": ".py",
   "mimetype": "text/x-python",
   "name": "python",
   "nbconvert_exporter": "python",
   "pygments_lexer": "ipython3",
   "version": "3.10.6"
  },
  "orig_nbformat": 4
 },
 "nbformat": 4,
 "nbformat_minor": 2
}
